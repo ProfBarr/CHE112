{
  "nbformat": 4,
  "nbformat_minor": 0,
  "metadata": {
    "colab": {
      "provenance": [],
      "authorship_tag": "ABX9TyM8c19p7TRFHuKhxEARUUZa",
      "include_colab_link": true
    },
    "kernelspec": {
      "name": "python3",
      "display_name": "Python 3"
    },
    "language_info": {
      "name": "python"
    }
  },
  "cells": [
    {
      "cell_type": "markdown",
      "metadata": {
        "id": "view-in-github",
        "colab_type": "text"
      },
      "source": [
        "<a href=\"https://colab.research.google.com/github/ProfBarr/CHE112/blob/main/GradeApproximator_Quiz5.ipynb\" target=\"_parent\"><img src=\"https://colab.research.google.com/assets/colab-badge.svg\" alt=\"Open In Colab\"/></a>"
      ]
    },
    {
      "cell_type": "markdown",
      "source": [
        "# Grade approximator (WEEK 9)\n",
        "## Purpose:\n",
        "*To help students see their grade trajectory for CHE 112. Please keep in mind that your grade is not concrete until the end.*\n",
        "\n",
        "**Please keep in mind this is an approximation**\n",
        "\n",
        "To run approximator, click the run symbol on the left of the cells. Run each cell (in order).\n",
        "\n"
      ],
      "metadata": {
        "id": "HXhAQYiGl0Dl"
      }
    },
    {
      "cell_type": "code",
      "execution_count": null,
      "metadata": {
        "id": "1Pg_EHXIlrzB"
      },
      "outputs": [],
      "source": [
        "### CLA ###\n",
        "# How many points did you earn from CLA as of Week 3\n",
        "\n",
        "points_CLA = 20 # As of the end of week 9. (This is out of 24 points)\n",
        "\n",
        "### ALEKS ###\n",
        "ALEKS_ch_12 = 10 # Value out of 10\n",
        "ALEKS_ch_13 = 10 # Value out of 10\n",
        "ALEKS_ch_14 = 10 # Value out of 10\n",
        "ALEKS_ch_15 = 10 # Value out of 10\n",
        "ALEKS_ch_15HW = 10 # Value out of 10\n",
        "ALEKS_pie_completion = 100 #What percentage of the modules did you complete overall? Value out of 100\n",
        "\n",
        "### Surveys ###\n",
        "points_survey = 4 #Value out of 4 surveys\n",
        "\n",
        "### Quizzes ###\n",
        "quiz_1_score = 12 # Total score from part 1 and part 2 added together. This score is out of 24 points\n",
        "quiz_2_score = 12 # Total score from part 1 and part 2 added together. This score is out of 24 points\n",
        "quiz_3_score = 15 # Total score from part 1 and part 2 added together. This score is out of 24 points\n",
        "quiz_4_score = 15 # Total score from part 1 and part 2 added together. This score is out of 24 points\n",
        "quiz_5_score = 12 # Total score from part 1 and part 2 added together. This score is out of 24 points\n",
        "\n",
        "### Midterms ###\n",
        "midterm_1_MC = 22 # Total out of 40 points\n",
        "midterm_1_ind = 26 # Total out of 40 points\n",
        "midterm_1_group = 18 # Total out of 20 points\n",
        "\n",
        "### Lab Percentage ###\n",
        "lab_percentage = 95 # Total percentage from the lab as of this week. Score is out of 100 points."
      ]
    },
    {
      "cell_type": "markdown",
      "source": [
        "## Code to run for calculations\n",
        "**Don't forget to run this code**"
      ],
      "metadata": {
        "id": "gyzJYj_bUFrn"
      }
    },
    {
      "cell_type": "code",
      "source": [
        "total_CLA = 20\n",
        "total_survey = 4\n",
        "total_ALEKS_reg = 50\n",
        "sum_ALEKS = (ALEKS_ch_12 + ALEKS_ch_13 +ALEKS_ch_14 + ALEKS_ch_15 +ALEKS_ch_15HW)\n",
        "quiz1_total = 24\n",
        "quiz2_total = 24\n",
        "quiz3_total , quiz4_total, quiz5_total = 24, 24, 24\n",
        "\n",
        "quiz_list = [quiz_1_score/quiz1_total, quiz_2_score/quiz2_total, quiz_3_score/quiz3_total, quiz_4_score/quiz4_total, quiz_5_score/quiz5_total]\n",
        "num_of_quiz = len(quiz_list)\n",
        "quiz_percentage = (sum(quiz_list)-min(quiz_list))/(num_of_quiz-1)\n",
        "\n",
        "\n",
        "midterm_approx = (midterm_1_MC + midterm_1_ind + midterm_1_group)/100\n",
        "\n",
        "CLA_scale = (points_CLA)/total_CLA\n",
        "if CLA_scale > 1:\n",
        "  CLA_scale = 1\n",
        "\n",
        "class_percentage = (CLA_scale*.06+ 0.03*(points_survey/total_survey)+0.04*(sum_ALEKS/total_ALEKS_reg)+ALEKS_pie_completion/100*.02 + .18*(quiz_percentage) +.27*(midterm_approx)+.15*(midterm_approx+.07)+ 0.2*lab_percentage/100)/.95*100\n",
        "lecture_class_percentage = (CLA_scale*.06+ 0.03*(points_survey/total_survey)+0.04*(sum_ALEKS/total_ALEKS_reg)+ALEKS_pie_completion/100*.02 + .18*(quiz_percentage) +.27*(midterm_approx)+.15*(midterm_approx+.07))/.75*100\n",
        "A_message = f'Congrats! With a score of {round(class_percentage,1)}%, you are on track for some version of an A. Keep up the hard work!'\n",
        "B_message = f'Congrats! With a score of {round(class_percentage,1)}%, you are on track for some version of a B. Keep up the hard work!'\n",
        "C_message = f'With a score of {round(class_percentage,1)}%, you are on track to earn a passing C. This is fine, but if you wish to improve, come talk to me =). Note your lecture percentage is {round(lecture_class_percentage, 1)}% and you need above 68% to pass.'\n",
        "Not_passing_message = f\"Unfortunately your score of {round(class_percentage,1)}% is not on track to pass. Come talk to me and we'll see if we can help.\"\n",
        "def grade_readout():\n",
        "  if class_percentage > 88:\n",
        "    print(A_message)\n",
        "  elif class_percentage > 77:\n",
        "    print(B_message)\n",
        "  elif class_percentage > 68:\n",
        "    print(C_message)\n",
        "  else:\n",
        "    print(Not_passing_message)\n"
      ],
      "metadata": {
        "id": "vrfo6h0zQ6G0"
      },
      "execution_count": null,
      "outputs": []
    },
    {
      "cell_type": "markdown",
      "source": [
        "## Grade trajectory approximator\n",
        "Keep in mind that this does not take dropping any quizzes into account."
      ],
      "metadata": {
        "id": "vFrTJWrAWnqq"
      }
    },
    {
      "cell_type": "code",
      "source": [
        "grade_readout()"
      ],
      "metadata": {
        "id": "XfXAYtWVW_q6"
      },
      "execution_count": null,
      "outputs": []
    },
    {
      "cell_type": "code",
      "source": [],
      "metadata": {
        "id": "MscbXtoZbE99"
      },
      "execution_count": null,
      "outputs": []
    }
  ]
}
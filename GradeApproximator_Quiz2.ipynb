{
  "nbformat": 4,
  "nbformat_minor": 0,
  "metadata": {
    "colab": {
      "provenance": [],
      "collapsed_sections": [
        "gyzJYj_bUFrn"
      ],
      "authorship_tag": "ABX9TyNPlwqCpVBZttO3Yf48c3d1",
      "include_colab_link": true
    },
    "kernelspec": {
      "name": "python3",
      "display_name": "Python 3"
    },
    "language_info": {
      "name": "python"
    }
  },
  "cells": [
    {
      "cell_type": "markdown",
      "metadata": {
        "id": "view-in-github",
        "colab_type": "text"
      },
      "source": [
        "<a href=\"https://colab.research.google.com/github/ProfBarr/CHE112/blob/main/GradeApproximator_Quiz2.ipynb\" target=\"_parent\"><img src=\"https://colab.research.google.com/assets/colab-badge.svg\" alt=\"Open In Colab\"/></a>"
      ]
    },
    {
      "cell_type": "markdown",
      "source": [
        "# Grade approximator (WEEK 3)\n",
        "## Purpose:\n",
        "*To help students see their grade trajectory for CHE 112. Please keep in mind that your grade is not concrete until the end.*\n",
        "\n",
        "**Please keep in mind this is an approximation**\n",
        "\n",
        "To run approximator, click the run symbol on the left of the cells. Run each cell (in order).\n",
        "\n"
      ],
      "metadata": {
        "id": "HXhAQYiGl0Dl"
      }
    },
    {
      "cell_type": "code",
      "execution_count": 25,
      "metadata": {
        "id": "1Pg_EHXIlrzB"
      },
      "outputs": [],
      "source": [
        "### CLA ###\n",
        "# How many points did you earn from CLA as of Week 3\n",
        "\n",
        "points_CLA = 8 # As of the end of week 3. (This is out of 12 points)\n",
        "\n",
        "### ALEKS ###\n",
        "ALEKS_ch_12 = 10 # Value out of 10\n",
        "ALEKS_ch_13 = 8 # Value out of 10\n",
        "ALEKS_pie_completion = 100 #What percentage of the modules did you complete overall? Value out of 100\n",
        "\n",
        "### Surveys ###\n",
        "points_survey = 3 #Value out of 3 surveys\n",
        "\n",
        "### Quizzes ###\n",
        "quiz_1_score = 14 # Total score from part 1 and part 2 added together. This score is out of 24 points\n",
        "quiz_2_score = 16 # Total score from part 1 and part 2 added together. This score is out of 24 points\n",
        "\n",
        "### Lab Percentage ###\n",
        "lab_percentage = 95 # Total percentage from the lab as of this week. Score is out of 100 points."
      ]
    },
    {
      "cell_type": "markdown",
      "source": [
        "## Code to run for calculations\n",
        "**Don't forget to run this code**"
      ],
      "metadata": {
        "id": "gyzJYj_bUFrn"
      }
    },
    {
      "cell_type": "code",
      "source": [
        "total_CLA = 10\n",
        "total_survey = 3\n",
        "total_ALEKS_reg = 20\n",
        "sum_ALEKS = (ALEKS_ch_12 + ALEKS_ch_13)\n",
        "quiz1_total = 24\n",
        "quiz2_total = 24\n",
        "midterm_approx = (quiz_1_score+quiz_2_score)/(quiz1_total+quiz2_total)\n",
        "\n",
        "CLA_scale = (points_CLA)/total_CLA\n",
        "if CLA_scale > 1:\n",
        "  CLA_scale = 1\n",
        "\n",
        "class_percentage = (CLA_scale*.06+ 0.03*(points_survey/total_survey)+0.04*(sum_ALEKS/total_ALEKS_reg)+ALEKS_pie_completion/100*.02 + .18*(quiz_1_score/quiz1_total + quiz_2_score/quiz2_total)/2+ .27*(midterm_approx)+.15*(midterm_approx+.07)+ 0.2*lab_percentage/100)/.95*100\n",
        "A_message = f'Congrats! With a score of {round(class_percentage,1)}%, you are on track for some version of an A. Keep up the hard work!'\n",
        "B_message = f'Congrats! With a score of {round(class_percentage,1)}%, you are on track for some version of a B. Keep up the hard work!'\n",
        "C_message = f'With a score of {round(class_percentage,1)}%, you are on track to earn a passing C. This is fine, but if you wish to improve, come talk to me =)'\n",
        "Not_passing_message = f\"Unfortunately your score of {round(class_percentage,1)}% is not on track to pass. Come talk to me and we'll see if we can help.\"\n",
        "def grade_readout():\n",
        "  if class_percentage > 88:\n",
        "    print(A_message)\n",
        "  elif class_percentage > 77:\n",
        "    print(B_message)\n",
        "  elif class_percentage > 68:\n",
        "    print(C_message)\n",
        "  else:\n",
        "    print(Not_passing_message)\n"
      ],
      "metadata": {
        "id": "vrfo6h0zQ6G0"
      },
      "execution_count": 26,
      "outputs": []
    },
    {
      "cell_type": "markdown",
      "source": [
        "## Grade trajectory approximator\n",
        "Keep in mind that this does not take dropping any quizzes into account."
      ],
      "metadata": {
        "id": "vFrTJWrAWnqq"
      }
    },
    {
      "cell_type": "code",
      "source": [
        "grade_readout()"
      ],
      "metadata": {
        "colab": {
          "base_uri": "https://localhost:8080/"
        },
        "id": "XfXAYtWVW_q6",
        "outputId": "29c84cc9-552a-438f-ef87-b5d2759c1a7b"
      },
      "execution_count": 27,
      "outputs": [
        {
          "output_type": "stream",
          "name": "stdout",
          "text": [
            "With a score of 74.7%, you are on track to earn a passing C. This is fine, but if you wish to improve, come talk to me =)\n"
          ]
        }
      ]
    }
  ]
}
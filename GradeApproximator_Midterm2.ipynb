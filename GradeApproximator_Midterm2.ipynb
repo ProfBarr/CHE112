{
  "nbformat": 4,
  "nbformat_minor": 0,
  "metadata": {
    "colab": {
      "provenance": [],
      "authorship_tag": "ABX9TyMIyHmm9BndT5UEmTG5N3Mp",
      "include_colab_link": true
    },
    "kernelspec": {
      "name": "python3",
      "display_name": "Python 3"
    },
    "language_info": {
      "name": "python"
    }
  },
  "cells": [
    {
      "cell_type": "markdown",
      "metadata": {
        "id": "view-in-github",
        "colab_type": "text"
      },
      "source": [
        "<a href=\"https://colab.research.google.com/github/ProfBarr/CHE112/blob/main/GradeApproximator_Midterm2.ipynb\" target=\"_parent\"><img src=\"https://colab.research.google.com/assets/colab-badge.svg\" alt=\"Open In Colab\"/></a>"
      ]
    },
    {
      "cell_type": "markdown",
      "source": [
        "# Grade approximator (WEEK 13)\n",
        "## Purpose:\n",
        "*To help students see their grade trajectory for CHE 112. Please keep in mind that your grade is not concrete until the end.*\n",
        "\n",
        "**Please keep in mind this is an approximation**\n",
        "\n",
        "To run approximator, click the run symbol on the left of the cells. Run each cell (in order).\n",
        "\n"
      ],
      "metadata": {
        "id": "HXhAQYiGl0Dl"
      }
    },
    {
      "cell_type": "code",
      "execution_count": null,
      "metadata": {
        "id": "1Pg_EHXIlrzB",
        "colab": {
          "base_uri": "https://localhost:8080/",
          "height": 17
        },
        "outputId": "e55347ca-1cd4-4bf9-ad41-b9af6f3d67ea"
      },
      "outputs": [
        {
          "output_type": "display_data",
          "data": {
            "text/plain": [
              "<IPython.core.display.HTML object>"
            ],
            "text/html": [
              "\n",
              "  <style>\n",
              "    pre {\n",
              "        white-space: pre-wrap;\n",
              "    }\n",
              "  </style>\n",
              "  "
            ]
          },
          "metadata": {}
        }
      ],
      "source": [
        "### CLA ###\n",
        "# How many points did you earn from CLA as of Week 13\n",
        "\n",
        "points_CLA = 26 # As of the end of week 13. (This is out of 28 points)\n",
        "\n",
        "### ALEKS ###\n",
        "ALEKS_ch_12 = 10 # Value out of 10\n",
        "ALEKS_ch_13 = 10 # Value out of 10\n",
        "ALEKS_ch_14 = 10 # Value out of 10\n",
        "ALEKS_ch_15 = 10 # Value out of 10\n",
        "ALEKS_ch_15HW = 10 # Value out of 10\n",
        "ALEKS_ch_16 = 10 # Value out of 10\n",
        "ALEKS_ch_16HW = 10 # Value out of 10\n",
        "ALEKS_ch_17 = 10 # Value out of 10\n",
        "ALEKS_ch_17HW = 10 # Value out of 10\n",
        "ALEKS_ch_18 = 10 # Value out of 10\n",
        "ALEKS_ch_18HW = 10 # Value out of 10\n",
        "ALEKS_pie_completion = 100 #What percentage of the modules did you complete overall? Value out of 100\n",
        "\n",
        "### Surveys ###\n",
        "points_survey = 4 #Value out of 4 surveys\n",
        "\n",
        "### Quizzes ###\n",
        "quiz_1_score = 12 # Total score from part 1 and part 2 added together. This score is out of 24 points\n",
        "quiz_2_score = 12 # Total score from part 1 and part 2 added together. This score is out of 24 points\n",
        "quiz_3_score = 15 # Total score from part 1 and part 2 added together. This score is out of 24 points\n",
        "quiz_4_score = 15 # Total score from part 1 and part 2 added together. This score is out of 24 points\n",
        "quiz_5_score = 12 # Total score from part 1 and part 2 added together. This score is out of 24 points\n",
        "quiz_6_score = 12 # Total score from part 1 and part 2 added together. This score is out of 24 points\n",
        "\n",
        "### Midterms ###\n",
        "midterm_1_MC = 22 # Total out of 40 points\n",
        "midterm_1_ind = 26 # Total out of 40 points\n",
        "midterm_1_group = 18 # Total out of 20 points\n",
        "\n",
        "midterm_2_MC = 16 # Total out of 40 points\n",
        "midterm_2_ind = 26 # Total out of 40 points\n",
        "midterm_2_group = 18 # Total out of 20 points\n",
        "Halloween = 2 # Total out of 2 points\n",
        "\n",
        "### Lab Percentage ###\n",
        "lab_percentage = 95 # Total percentage from the lab as of this week. Score is out of 100 points."
      ]
    },
    {
      "cell_type": "markdown",
      "source": [
        "## Code to run for calculations\n",
        "**Don't forget to run this code**"
      ],
      "metadata": {
        "id": "gyzJYj_bUFrn"
      }
    },
    {
      "cell_type": "code",
      "source": [
        "### Run these lines to approximate your grade trejectory ###\n",
        "\n",
        "### After you run the code scroll down to the bottom of the cell ###\n",
        "\n",
        "from IPython.display import HTML, display\n",
        "\n",
        "def set_css():\n",
        "  display(HTML('''\n",
        "  <style>\n",
        "    pre {\n",
        "        white-space: pre-wrap;\n",
        "    }\n",
        "  </style>\n",
        "  '''))\n",
        "get_ipython().events.register('pre_run_cell', set_css)\n",
        "\n",
        "\n",
        "\n",
        "total_CLA = 22\n",
        "total_survey = 4\n",
        "total_ALEKS_reg = 110\n",
        "sum_ALEKS = (ALEKS_ch_12 + ALEKS_ch_13 +ALEKS_ch_14 + ALEKS_ch_15 +ALEKS_ch_15HW + ALEKS_ch_16 + ALEKS_ch_16HW +ALEKS_ch_17 + ALEKS_ch_17HW + ALEKS_ch_18 + ALEKS_ch_18HW)\n",
        "quiz1_total = 24\n",
        "quiz2_total = 24\n",
        "quiz3_total , quiz4_total, quiz5_total, quiz6_total = 24, 24, 24, 24\n",
        "\n",
        "quiz_list = [quiz_1_score/quiz1_total, quiz_2_score/quiz2_total, quiz_3_score/quiz3_total, quiz_4_score/quiz4_total, quiz_5_score/quiz5_total, quiz_6_score/quiz6_total]\n",
        "num_of_quiz = len(quiz_list)\n",
        "quiz_percentage = (sum(quiz_list)-min(quiz_list))/(num_of_quiz-1)\n",
        "\n",
        "\n",
        "midterm_approx = (midterm_1_MC + midterm_1_ind + midterm_1_group + midterm_2_MC + midterm_2_ind + midterm_2_group + Halloween)/100/2\n",
        "\n",
        "CLA_scale = (points_CLA)/total_CLA\n",
        "if CLA_scale > 1:\n",
        "  CLA_scale = 1\n",
        "\n",
        "class_percentage = (CLA_scale*.06+ 0.03*(points_survey/total_survey)+0.04*(sum_ALEKS/total_ALEKS_reg)+ALEKS_pie_completion/100*.02 + .18*(quiz_percentage) +.27*(midterm_approx)+.15*(midterm_approx+.07)+ 0.2*lab_percentage/100)/.95*100\n",
        "lecture_class_percentage = (CLA_scale*.06+ 0.03*(points_survey/total_survey)+0.04*(sum_ALEKS/total_ALEKS_reg)+ALEKS_pie_completion/100*.02 + .18*(quiz_percentage) +.27*(midterm_approx)+.15*(midterm_approx+.07))/.75*100\n",
        "A_message = f'Congrats! With a score of {round(class_percentage,1)}%, you are on track for some version of an A. Keep up the hard work!'\n",
        "B_message = f'Congrats! With a score of {round(class_percentage,1)}%, you are on track for some version of a B. Keep up the hard work!'\n",
        "C_message = f'With a score of {round(class_percentage,1)}%, you are on track to earn a passing C. This is fine, but if you wish to improve, come talk to me =). Note your lecture percentage is {round(lecture_class_percentage, 1)}% and you need above 68% to pass.'\n",
        "Not_passing_message = f\"Unfortunately your score of {round(class_percentage,1)}% is not on track to pass. Come talk to me and we'll see if we can help.\"\n",
        "def grade_readout():\n",
        "  if class_percentage > 88:\n",
        "    print(A_message)\n",
        "  elif class_percentage > 77:\n",
        "    print(B_message)\n",
        "  elif class_percentage > 68:\n",
        "    print(C_message)\n",
        "  else:\n",
        "    print(Not_passing_message)\n"
      ],
      "metadata": {
        "id": "vrfo6h0zQ6G0"
      },
      "execution_count": null,
      "outputs": []
    },
    {
      "cell_type": "markdown",
      "source": [
        "## Grade trajectory approximator\n",
        "Keep in mind that this does not take dropping a midterm into account."
      ],
      "metadata": {
        "id": "vFrTJWrAWnqq"
      }
    },
    {
      "cell_type": "code",
      "source": [
        "grade_readout()"
      ],
      "metadata": {
        "id": "XfXAYtWVW_q6",
        "colab": {
          "base_uri": "https://localhost:8080/",
          "height": 69
        },
        "outputId": "1809a7c2-f1a5-4d5d-de27-2978e630b3d3"
      },
      "execution_count": null,
      "outputs": [
        {
          "output_type": "display_data",
          "data": {
            "text/plain": [
              "<IPython.core.display.HTML object>"
            ],
            "text/html": [
              "\n",
              "  <style>\n",
              "    pre {\n",
              "        white-space: pre-wrap;\n",
              "    }\n",
              "  </style>\n",
              "  "
            ]
          },
          "metadata": {}
        },
        {
          "output_type": "stream",
          "name": "stdout",
          "text": [
            "With a score of 76.7%, you are on track to earn a passing C. This is fine, but if you wish to improve, come talk to me =). Note your lecture percentage is 71.9% and you need above 68% to pass.\n"
          ]
        }
      ]
    },
    {
      "cell_type": "code",
      "source": [],
      "metadata": {
        "id": "MscbXtoZbE99"
      },
      "execution_count": null,
      "outputs": []
    }
  ]
}
{
  "nbformat": 4,
  "nbformat_minor": 0,
  "metadata": {
    "colab": {
      "provenance": [],
      "authorship_tag": "ABX9TyMlQpml0Erfk8HWo+hf0oEi",
      "include_colab_link": true
    },
    "kernelspec": {
      "name": "python3",
      "display_name": "Python 3"
    },
    "language_info": {
      "name": "python"
    }
  },
  "cells": [
    {
      "cell_type": "markdown",
      "metadata": {
        "id": "view-in-github",
        "colab_type": "text"
      },
      "source": [
        "<a href=\"https://colab.research.google.com/github/ProfBarr/CHE112/blob/main/GradeApproximator_Midterm3_p1.ipynb\" target=\"_parent\"><img src=\"https://colab.research.google.com/assets/colab-badge.svg\" alt=\"Open In Colab\"/></a>"
      ]
    },
    {
      "cell_type": "markdown",
      "source": [
        "# Grade approximator (WEEK 15)\n",
        "## Purpose:\n",
        "*To help students see their grade trajectory for CHE 112. Please keep in mind that your grade is not concrete until the end.*\n",
        "\n",
        "**Please keep in mind this is an approximation**\n",
        "\n",
        "To run approximator, click the run symbol on the left of the cells. Run each cell (in order).\n",
        "\n"
      ],
      "metadata": {
        "id": "HXhAQYiGl0Dl"
      }
    },
    {
      "cell_type": "code",
      "execution_count": 16,
      "metadata": {
        "id": "1Pg_EHXIlrzB",
        "colab": {
          "base_uri": "https://localhost:8080/",
          "height": 17
        },
        "outputId": "99cfb5fd-9d16-4b63-dd04-51f751ef9567"
      },
      "outputs": [
        {
          "output_type": "display_data",
          "data": {
            "text/plain": [
              "<IPython.core.display.HTML object>"
            ],
            "text/html": [
              "\n",
              "  <style>\n",
              "    pre {\n",
              "        white-space: pre-wrap;\n",
              "    }\n",
              "  </style>\n",
              "  "
            ]
          },
          "metadata": {}
        },
        {
          "output_type": "display_data",
          "data": {
            "text/plain": [
              "<IPython.core.display.HTML object>"
            ],
            "text/html": [
              "\n",
              "  <style>\n",
              "    pre {\n",
              "        white-space: pre-wrap;\n",
              "    }\n",
              "  </style>\n",
              "  "
            ]
          },
          "metadata": {}
        },
        {
          "output_type": "display_data",
          "data": {
            "text/plain": [
              "<IPython.core.display.HTML object>"
            ],
            "text/html": [
              "\n",
              "  <style>\n",
              "    pre {\n",
              "        white-space: pre-wrap;\n",
              "    }\n",
              "  </style>\n",
              "  "
            ]
          },
          "metadata": {}
        },
        {
          "output_type": "display_data",
          "data": {
            "text/plain": [
              "<IPython.core.display.HTML object>"
            ],
            "text/html": [
              "\n",
              "  <style>\n",
              "    pre {\n",
              "        white-space: pre-wrap;\n",
              "    }\n",
              "  </style>\n",
              "  "
            ]
          },
          "metadata": {}
        },
        {
          "output_type": "display_data",
          "data": {
            "text/plain": [
              "<IPython.core.display.HTML object>"
            ],
            "text/html": [
              "\n",
              "  <style>\n",
              "    pre {\n",
              "        white-space: pre-wrap;\n",
              "    }\n",
              "  </style>\n",
              "  "
            ]
          },
          "metadata": {}
        }
      ],
      "source": [
        "### CLA ###\n",
        "# How many points did you earn from CLA as of Week 15\n",
        "\n",
        "points_CLA = 30 # As of the end of week 15. (This is out of 28 points)\n",
        "\n",
        "### ALEKS ###\n",
        "ALEKS_ch_12 = 10 # Value out of 10\n",
        "ALEKS_ch_13 = 10 # Value out of 10\n",
        "ALEKS_ch_14 = 10 # Value out of 10\n",
        "ALEKS_ch_15 = 10 # Value out of 10\n",
        "ALEKS_ch_15HW = 10 # Value out of 10\n",
        "ALEKS_ch_16 = 10 # Value out of 10\n",
        "ALEKS_ch_16HW = 10 # Value out of 10\n",
        "ALEKS_ch_17 = 10 # Value out of 10\n",
        "ALEKS_ch_17HW = 10 # Value out of 10\n",
        "ALEKS_ch_18 = 10 # Value out of 10\n",
        "ALEKS_ch_18HW = 10 # Value out of 10\n",
        "ALEKS_Extra_Credit_1 = 10 # Value out of 10\n",
        "ALEKS_Extra_Credit_2 = 10 # Value out of 10\n",
        "\n",
        "ALEKS_pie_completion = 10 #What score did you earn overall? Value out of 10\n",
        "\n",
        "### Surveys ###\n",
        "points_survey = 6 #Value out of 7 surveys\n",
        "\n",
        "### Quizzes ###\n",
        "quiz_1_score = 11 # Total score from part 1 and part 2 added together. This score is out of 24 points\n",
        "quiz_2_score = 12 # Total score from part 1 and part 2 added together. This score is out of 24 points\n",
        "quiz_3_score = 15 # Total score from part 1 and part 2 added together. This score is out of 24 points\n",
        "quiz_4_score = 11.5 # Total score from part 1 and part 2 added together. This score is out of 24 points\n",
        "quiz_5_score = 8 # Total score from part 1 and part 2 added together. This score is out of 24 points\n",
        "quiz_6_score = 13 # Total score from part 1 and part 2 added together. This score is out of 24 points\n",
        "quiz_7_score = 14.5 # Total score from part 1 and part 2 added together. This score is out of 24 points\n",
        "quiz_8_score = 0 # Total score from part 1 and part 2 added together. This score is out of 24 points\n",
        "\n",
        "### Midterms ###\n",
        "midterm_1_MC = 18 # Total out of 40 points\n",
        "midterm_1_ind = 22 # Total out of 40 points\n",
        "midterm_1_group = 18 # Total out of 20 points\n",
        "\n",
        "midterm_2_MC = 14 # Total out of 40 points\n",
        "midterm_2_ind = 23 # Total out of 40 points\n",
        "midterm_2_group = 18 # Total out of 20 points\n",
        "Halloween = 2 # Total out of 2 points\n",
        "\n",
        "midterm_3_MC = 14 # Total out of 40 points\n",
        "midterm_3_ind = 32 # Total out of 40 points\n",
        "midterm_3_group = 18 # Total out of 20 points\n",
        "\n",
        "midterm_extra_credit_MC = 30 # Total out of 40 points\n",
        "\n",
        "### Lab Percentage ###\n",
        "lab_percentage = 80 # Total percentage from the lab as of this week. Score is out of 100 points.\n",
        "\n",
        "### Final Exam Expectation ###\n",
        "# Put the letter grade (A, B, C, D) on the grade you expect to earn\n",
        "final_exam_expectation = 'A' # Put the letter grade ('A', 'B', 'C', 'D') on the grade you expect to earn.\n"
      ]
    },
    {
      "cell_type": "markdown",
      "source": [
        "## Code to run for calculations\n",
        "**Don't forget to run this code, but do not modify**"
      ],
      "metadata": {
        "id": "gyzJYj_bUFrn"
      }
    },
    {
      "cell_type": "code",
      "source": [
        "### Run these lines to approximate your grade trejectory ###\n",
        "\n",
        "### After you run the code scroll down to the bottom of the cell ###\n",
        "\n",
        "from IPython.display import HTML, display\n",
        "\n",
        "def set_css():\n",
        "  display(HTML('''\n",
        "  <style>\n",
        "    pre {\n",
        "        white-space: pre-wrap;\n",
        "    }\n",
        "  </style>\n",
        "  '''))\n",
        "get_ipython().events.register('pre_run_cell', set_css)\n",
        "\n",
        "def calculate_average(values):\n",
        "    # Check if the input list is not empty\n",
        "    if not values:\n",
        "        print(\"Please provide a non-empty list.\")\n",
        "        return None\n",
        "\n",
        "    # Calculate the average\n",
        "    average = sum(values) / len(values)\n",
        "\n",
        "    return average\n",
        "\n",
        "def replace_lowest_MC_score(values):\n",
        "    # Check if the input list has at least 3 values\n",
        "    if len(values) < 3:\n",
        "        print(\"Please provide a list with at least 3 values.\")\n",
        "        return None\n",
        "\n",
        "    # Find the index of the lowest value\n",
        "    min_index = values.index(min(values))\n",
        "\n",
        "    # Check if the fourth value is larger than the lowest value\n",
        "    if len(values) >= 4 and values[min_index] < values[3]:\n",
        "        # Replace the lowest value with the fourth value\n",
        "        values[min_index] = values[3]\n",
        "\n",
        "    return values\n",
        "\n",
        "\n",
        "def calculate_final(letter):\n",
        "    grade_mapping = {'A': 0.9, 'B': 0.8, 'C': 0.68, 'D': 0.55, 'F': 0.5}\n",
        "\n",
        "    # Convert the letter to uppercase for case-insensitivity\n",
        "    letter = letter.upper()\n",
        "\n",
        "    # Check if the letter is in the mapping\n",
        "    if letter in grade_mapping:\n",
        "        final = grade_mapping[letter]\n",
        "    else:\n",
        "        print(\"Invalid letter grade. Please enter A, B, C, D, or F.\")\n",
        "        return None\n",
        "\n",
        "    return final\n",
        "\n",
        "total_CLA = 28\n",
        "total_survey = 6\n",
        "total_ALEKS_reg = 110\n",
        "list_ALEKS = [ALEKS_ch_12, ALEKS_ch_13, ALEKS_ch_14, ALEKS_ch_15, ALEKS_ch_15HW, ALEKS_ch_16, ALEKS_ch_16HW, ALEKS_ch_17,  ALEKS_ch_17HW, ALEKS_ch_18, ALEKS_ch_18HW, ALEKS_Extra_Credit_1, ALEKS_Extra_Credit_2]\n",
        "list_ALEKS = sorted(list_ALEKS)\n",
        "sum_ALEKS = sum(list_ALEKS)-sum(list_ALEKS[:2])\n",
        "# sum_ALEKS = (ALEKS_ch_12 + ALEKS_ch_13 +ALEKS_ch_14 + ALEKS_ch_15 +ALEKS_ch_15HW + ALEKS_ch_16 + ALEKS_ch_16HW +ALEKS_ch_17 + ALEKS_ch_17HW + ALEKS_ch_18 + ALEKS_ch_18HW)\n",
        "quiz1_total = 24\n",
        "quiz2_total = 24\n",
        "quiz3_total , quiz4_total, quiz5_total, quiz6_total, quiz7_total, quiz8_total = 24, 24, 24, 24, 24, 24\n",
        "\n",
        "quiz_list = [quiz_1_score/quiz1_total, quiz_2_score/quiz2_total, quiz_3_score/quiz3_total, quiz_4_score/quiz4_total, quiz_5_score/quiz5_total, quiz_6_score/quiz6_total, quiz_7_score/quiz7_total, quiz_8_score/quiz8_total]\n",
        "quiz_list = sorted(quiz_list)\n",
        "quiz_list = quiz_list[2:]\n",
        "\n",
        "quiz_percentage = calculate_average(quiz_list)\n",
        "\n",
        "######### Midterm Calculations ###########\n",
        "midterm_2_ind = midterm_2_ind+Halloween\n",
        "midterm_MC_list = [midterm_1_MC, midterm_2_MC, midterm_3_MC, midterm_extra_credit_MC]\n",
        "midterm_MC_list = replace_lowest_MC_score(midterm_MC_list)[0:3]\n",
        "midterm_ind_and_group_list =[midterm_1_ind, midterm_1_group, midterm_2_ind, midterm_2_group, midterm_3_ind, midterm_3_group]\n",
        "midterm_average = (sum(midterm_MC_list)+ sum(midterm_ind_and_group_list))/3\n",
        "\n",
        "midterm_approx = midterm_average/100\n",
        "\n",
        "CLA_scale = (points_CLA)/total_CLA\n",
        "if CLA_scale > 1:\n",
        "  CLA_scale = 1\n",
        "\n",
        "#### Final Exam approximation ####\n",
        "final_exam_trajectory = calculate_final(final_exam_expectation)\n",
        "\n",
        "class_percentage = (CLA_scale*.06+ 0.03*(points_survey/total_survey)+0.04*(sum_ALEKS/total_ALEKS_reg)+ALEKS_pie_completion/10*.02 + .18*(quiz_percentage) +.27*(midterm_approx)+.15*(final_exam_trajectory)+ 0.2*lab_percentage/100+.05*.9)*100\n",
        "lecture_class_percentage = (CLA_scale*.06+ 0.03*(points_survey/total_survey)+0.04*(sum_ALEKS/total_ALEKS_reg)+ALEKS_pie_completion/10*.02 + .18*(quiz_percentage) +.27*(midterm_approx)+.15*(final_exam_trajectory)+.05*.9)/.8*100\n",
        "A_message = f'Congrats! With a score of {round(class_percentage,1)}%, you are on track for some version of an A. Keep up the hard work!'\n",
        "B_message = f'Congrats! With a score of {round(class_percentage,1)}%, you are on track for some version of a B. Keep up the hard work!'\n",
        "C_message = f'With a score of {round(class_percentage,1)}%, you are on track to earn a passing C. This is fine, but if you wish to improve, come talk to me =). Note your lecture percentage is {round(lecture_class_percentage, 1)}% and you need above 68% to pass.'\n",
        "Not_passing_message = f\"Unfortunately your score of {round(class_percentage,1)}% is not on track to pass. Come talk to me and we'll see if we can help.\"\n",
        "def grade_readout():\n",
        "  if class_percentage > 88:\n",
        "    print(A_message)\n",
        "  elif class_percentage > 77:\n",
        "    print(B_message)\n",
        "  elif class_percentage > 68:\n",
        "    print(C_message)\n",
        "  else:\n",
        "    print(Not_passing_message)\n"
      ],
      "metadata": {
        "id": "vrfo6h0zQ6G0",
        "colab": {
          "base_uri": "https://localhost:8080/",
          "height": 17
        },
        "outputId": "f0ab27ae-f3fd-45f6-c21f-c42be8c05575"
      },
      "execution_count": 17,
      "outputs": [
        {
          "output_type": "display_data",
          "data": {
            "text/plain": [
              "<IPython.core.display.HTML object>"
            ],
            "text/html": [
              "\n",
              "  <style>\n",
              "    pre {\n",
              "        white-space: pre-wrap;\n",
              "    }\n",
              "  </style>\n",
              "  "
            ]
          },
          "metadata": {}
        },
        {
          "output_type": "display_data",
          "data": {
            "text/plain": [
              "<IPython.core.display.HTML object>"
            ],
            "text/html": [
              "\n",
              "  <style>\n",
              "    pre {\n",
              "        white-space: pre-wrap;\n",
              "    }\n",
              "  </style>\n",
              "  "
            ]
          },
          "metadata": {}
        },
        {
          "output_type": "display_data",
          "data": {
            "text/plain": [
              "<IPython.core.display.HTML object>"
            ],
            "text/html": [
              "\n",
              "  <style>\n",
              "    pre {\n",
              "        white-space: pre-wrap;\n",
              "    }\n",
              "  </style>\n",
              "  "
            ]
          },
          "metadata": {}
        },
        {
          "output_type": "display_data",
          "data": {
            "text/plain": [
              "<IPython.core.display.HTML object>"
            ],
            "text/html": [
              "\n",
              "  <style>\n",
              "    pre {\n",
              "        white-space: pre-wrap;\n",
              "    }\n",
              "  </style>\n",
              "  "
            ]
          },
          "metadata": {}
        },
        {
          "output_type": "display_data",
          "data": {
            "text/plain": [
              "<IPython.core.display.HTML object>"
            ],
            "text/html": [
              "\n",
              "  <style>\n",
              "    pre {\n",
              "        white-space: pre-wrap;\n",
              "    }\n",
              "  </style>\n",
              "  "
            ]
          },
          "metadata": {}
        }
      ]
    },
    {
      "cell_type": "markdown",
      "source": [
        "## Grade trajectory approximator\n",
        "Keep in mind that this does not take dropping a midterm into account."
      ],
      "metadata": {
        "id": "vFrTJWrAWnqq"
      }
    },
    {
      "cell_type": "code",
      "source": [
        "grade_readout()"
      ],
      "metadata": {
        "id": "XfXAYtWVW_q6",
        "colab": {
          "base_uri": "https://localhost:8080/",
          "height": 34
        },
        "outputId": "98b02991-fde2-4067-a02e-bd964b904310"
      },
      "execution_count": 18,
      "outputs": [
        {
          "output_type": "display_data",
          "data": {
            "text/plain": [
              "<IPython.core.display.HTML object>"
            ],
            "text/html": [
              "\n",
              "  <style>\n",
              "    pre {\n",
              "        white-space: pre-wrap;\n",
              "    }\n",
              "  </style>\n",
              "  "
            ]
          },
          "metadata": {}
        },
        {
          "output_type": "display_data",
          "data": {
            "text/plain": [
              "<IPython.core.display.HTML object>"
            ],
            "text/html": [
              "\n",
              "  <style>\n",
              "    pre {\n",
              "        white-space: pre-wrap;\n",
              "    }\n",
              "  </style>\n",
              "  "
            ]
          },
          "metadata": {}
        },
        {
          "output_type": "display_data",
          "data": {
            "text/plain": [
              "<IPython.core.display.HTML object>"
            ],
            "text/html": [
              "\n",
              "  <style>\n",
              "    pre {\n",
              "        white-space: pre-wrap;\n",
              "    }\n",
              "  </style>\n",
              "  "
            ]
          },
          "metadata": {}
        },
        {
          "output_type": "display_data",
          "data": {
            "text/plain": [
              "<IPython.core.display.HTML object>"
            ],
            "text/html": [
              "\n",
              "  <style>\n",
              "    pre {\n",
              "        white-space: pre-wrap;\n",
              "    }\n",
              "  </style>\n",
              "  "
            ]
          },
          "metadata": {}
        },
        {
          "output_type": "display_data",
          "data": {
            "text/plain": [
              "<IPython.core.display.HTML object>"
            ],
            "text/html": [
              "\n",
              "  <style>\n",
              "    pre {\n",
              "        white-space: pre-wrap;\n",
              "    }\n",
              "  </style>\n",
              "  "
            ]
          },
          "metadata": {}
        },
        {
          "output_type": "display_data",
          "data": {
            "text/plain": [
              "<IPython.core.display.HTML object>"
            ],
            "text/html": [
              "\n",
              "  <style>\n",
              "    pre {\n",
              "        white-space: pre-wrap;\n",
              "    }\n",
              "  </style>\n",
              "  "
            ]
          },
          "metadata": {}
        },
        {
          "output_type": "stream",
          "name": "stdout",
          "text": [
            "Congrats! With a score of 78.2%, you are on track for some version of a B. Keep up the hard work!\n"
          ]
        }
      ]
    }
  ]
}